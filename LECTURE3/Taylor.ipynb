{
 "cells": [
  {
   "cell_type": "code",
   "execution_count": 2,
   "id": "6e2f59bf",
   "metadata": {},
   "outputs": [
    {
     "ename": "ModuleNotFoundError",
     "evalue": "No module named 'LEACTURE3'",
     "output_type": "error",
     "traceback": [
      "\u001b[1;31m---------------------------------------------------------------------------\u001b[0m",
      "\u001b[1;31mModuleNotFoundError\u001b[0m                       Traceback (most recent call last)",
      "\u001b[1;32m~\\AppData\\Local\\Temp/ipykernel_12724/961398024.py\u001b[0m in \u001b[0;36m<module>\u001b[1;34m\u001b[0m\n\u001b[1;32m----> 1\u001b[1;33m \u001b[1;32mimport\u001b[0m \u001b[0mLEACTURE3\u001b[0m\u001b[1;33m\u001b[0m\u001b[1;33m\u001b[0m\u001b[0m\n\u001b[0m",
      "\u001b[1;31mModuleNotFoundError\u001b[0m: No module named 'LEACTURE3'"
     ]
    }
   ],
   "source": [
    "import LEACTURE3"
   ]
  },
  {
   "cell_type": "code",
   "execution_count": 3,
   "id": "4db3ba8c",
   "metadata": {},
   "outputs": [],
   "source": [
    "import polynomeMethod\n"
   ]
  },
  {
   "cell_type": "code",
   "execution_count": 4,
   "id": "0acff8fc",
   "metadata": {},
   "outputs": [
    {
     "data": {
      "text/plain": [
       "4"
      ]
     },
     "execution_count": 4,
     "metadata": {},
     "output_type": "execute_result"
    }
   ],
   "source": [
    "polynomeMethod.gornerPolynomeValueCalc([1,1,1,1], 1)"
   ]
  },
  {
   "cell_type": "code",
   "execution_count": 5,
   "id": "7d347df9",
   "metadata": {},
   "outputs": [],
   "source": [
    "from polynomeMethod import gornerPolynomeValueCalc as gorner"
   ]
  },
  {
   "cell_type": "code",
   "execution_count": 6,
   "id": "5296e099",
   "metadata": {},
   "outputs": [
    {
     "data": {
      "text/plain": [
       "4"
      ]
     },
     "execution_count": 6,
     "metadata": {},
     "output_type": "execute_result"
    }
   ],
   "source": [
    "gorner([1,1,1,1], 1)"
   ]
  },
  {
   "cell_type": "code",
   "execution_count": 7,
   "id": "73670cea",
   "metadata": {},
   "outputs": [],
   "source": [
    "import polynomeMethod as pm"
   ]
  },
  {
   "cell_type": "code",
   "execution_count": 8,
   "id": "bd108767",
   "metadata": {},
   "outputs": [
    {
     "data": {
      "text/plain": [
       "11"
      ]
     },
     "execution_count": 8,
     "metadata": {},
     "output_type": "execute_result"
    }
   ],
   "source": [
    "gorner([1,1], 10)"
   ]
  },
  {
   "cell_type": "markdown",
   "id": "a400730f",
   "metadata": {},
   "source": [
    "# Разложение экспоненты по Тейлору"
   ]
  },
  {
   "cell_type": "code",
   "execution_count": 12,
   "id": "4ef2c559",
   "metadata": {},
   "outputs": [],
   "source": [
    "def factorial(n):\n",
    "    if type(n) == int and n >=0:\n",
    "        if n == 0: return 1\n",
    "        elif n == 1: return 1\n",
    "        else: return n * factorial(n-1)"
   ]
  },
  {
   "cell_type": "code",
   "execution_count": 13,
   "id": "6ec989c6",
   "metadata": {},
   "outputs": [
    {
     "name": "stdout",
     "output_type": "stream",
     "text": [
      "120\n"
     ]
    }
   ],
   "source": [
    "print(factorial(5))"
   ]
  },
  {
   "cell_type": "code",
   "execution_count": 15,
   "id": "0444a57d",
   "metadata": {},
   "outputs": [],
   "source": [
    "n = 100\n",
    "a = []\n",
    "\n",
    "for i in range(n):a.append(1/factorial(i))"
   ]
  },
  {
   "cell_type": "code",
   "execution_count": 16,
   "id": "56285b2a",
   "metadata": {},
   "outputs": [],
   "source": [
    "x = 1"
   ]
  },
  {
   "cell_type": "code",
   "execution_count": 17,
   "id": "6a2f66c1",
   "metadata": {},
   "outputs": [
    {
     "data": {
      "text/plain": [
       "2.718281828459045"
      ]
     },
     "execution_count": 17,
     "metadata": {},
     "output_type": "execute_result"
    }
   ],
   "source": [
    "gorner(a, x)"
   ]
  },
  {
   "cell_type": "markdown",
   "id": "cc07989d",
   "metadata": {},
   "source": [
    "# Библиотека numpy"
   ]
  },
  {
   "cell_type": "code",
   "execution_count": 18,
   "id": "9ff21d04",
   "metadata": {},
   "outputs": [],
   "source": [
    "from numpy import exp"
   ]
  },
  {
   "cell_type": "code",
   "execution_count": 19,
   "id": "83af5387",
   "metadata": {},
   "outputs": [
    {
     "data": {
      "text/plain": [
       "2.718281828459045"
      ]
     },
     "execution_count": 19,
     "metadata": {},
     "output_type": "execute_result"
    }
   ],
   "source": [
    "exp(1)"
   ]
  },
  {
   "cell_type": "code",
   "execution_count": null,
   "id": "a4b58d3f",
   "metadata": {},
   "outputs": [],
   "source": []
  }
 ],
 "metadata": {
  "kernelspec": {
   "display_name": "Python 3 (ipykernel)",
   "language": "python",
   "name": "python3"
  },
  "language_info": {
   "codemirror_mode": {
    "name": "ipython",
    "version": 3
   },
   "file_extension": ".py",
   "mimetype": "text/x-python",
   "name": "python",
   "nbconvert_exporter": "python",
   "pygments_lexer": "ipython3",
   "version": "3.9.7"
  }
 },
 "nbformat": 4,
 "nbformat_minor": 5
}
