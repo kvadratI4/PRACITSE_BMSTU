{
 "cells": [
  {
   "cell_type": "code",
   "execution_count": 1,
   "id": "6e2f59bf",
   "metadata": {},
   "outputs": [
    {
     "ename": "ModuleNotFoundError",
     "evalue": "No module named 'LEACTURE3'",
     "output_type": "error",
     "traceback": [
      "\u001b[1;31m---------------------------------------------------------------------------\u001b[0m",
      "\u001b[1;31mModuleNotFoundError\u001b[0m                       Traceback (most recent call last)",
      "\u001b[1;32m~\\AppData\\Local\\Temp/ipykernel_15852/961398024.py\u001b[0m in \u001b[0;36m<module>\u001b[1;34m\u001b[0m\n\u001b[1;32m----> 1\u001b[1;33m \u001b[1;32mimport\u001b[0m \u001b[0mLEACTURE3\u001b[0m\u001b[1;33m\u001b[0m\u001b[1;33m\u001b[0m\u001b[0m\n\u001b[0m",
      "\u001b[1;31mModuleNotFoundError\u001b[0m: No module named 'LEACTURE3'"
     ]
    }
   ],
   "source": [
    "import LEACTURE3"
   ]
  },
  {
   "cell_type": "code",
   "execution_count": 4,
   "id": "4db3ba8c",
   "metadata": {},
   "outputs": [],
   "source": [
    "import polynomeMethod\n"
   ]
  },
  {
   "cell_type": "code",
   "execution_count": 3,
   "id": "0acff8fc",
   "metadata": {},
   "outputs": [
    {
     "data": {
      "text/plain": [
       "4"
      ]
     },
     "execution_count": 3,
     "metadata": {},
     "output_type": "execute_result"
    }
   ],
   "source": [
    "polynomeMethod.gornerPolynomeValueCalc([1,1,1,1], 1)"
   ]
  },
  {
   "cell_type": "code",
   "execution_count": 5,
   "id": "7d347df9",
   "metadata": {},
   "outputs": [],
   "source": [
    "from polynomeMethod import gornerPolynomeValueCalc as gorner"
   ]
  },
  {
   "cell_type": "code",
   "execution_count": 6,
   "id": "5296e099",
   "metadata": {},
   "outputs": [
    {
     "data": {
      "text/plain": [
       "4"
      ]
     },
     "execution_count": 6,
     "metadata": {},
     "output_type": "execute_result"
    }
   ],
   "source": [
    "gorner([1,1,1,1], 1)"
   ]
  },
  {
   "cell_type": "code",
   "execution_count": 8,
   "id": "73670cea",
   "metadata": {},
   "outputs": [],
   "source": [
    "import polynomeMethod as pm"
   ]
  },
  {
   "cell_type": "code",
   "execution_count": null,
   "id": "bd108767",
   "metadata": {},
   "outputs": [],
   "source": []
  }
 ],
 "metadata": {
  "kernelspec": {
   "display_name": "Python 3 (ipykernel)",
   "language": "python",
   "name": "python3"
  },
  "language_info": {
   "codemirror_mode": {
    "name": "ipython",
    "version": 3
   },
   "file_extension": ".py",
   "mimetype": "text/x-python",
   "name": "python",
   "nbconvert_exporter": "python",
   "pygments_lexer": "ipython3",
   "version": "3.9.7"
  }
 },
 "nbformat": 4,
 "nbformat_minor": 5
}
