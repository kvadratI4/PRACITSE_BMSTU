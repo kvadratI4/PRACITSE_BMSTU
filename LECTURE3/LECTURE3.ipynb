{
 "cells": [
  {
   "cell_type": "markdown",
   "id": "f64e7d04",
   "metadata": {},
   "source": [
    "# Метод Горнера"
   ]
  },
  {
   "cell_type": "markdown",
   "id": "b1dcf2be",
   "metadata": {},
   "source": [
    "#### Сокращение количества операций умножения для машины. Для классического вычисления понадобится n сложений и (n+1)n/2 умножений. В методе Горнера - n сложений и умножений"
   ]
  },
  {
   "cell_type": "code",
   "execution_count": 1,
   "id": "4dda5d2b",
   "metadata": {},
   "outputs": [],
   "source": [
    "a = [1, 2, 3, 4] #a0 - 1, a1 - 2 ...."
   ]
  },
  {
   "cell_type": "code",
   "execution_count": 2,
   "id": "e82d5898",
   "metadata": {},
   "outputs": [],
   "source": [
    "x = 1.1\n",
    "polynomValue = a[0] + a[1] * x + a[2]*x ** 2 + a[3]*x ** 3"
   ]
  },
  {
   "cell_type": "code",
   "execution_count": 3,
   "id": "69cdc9dc",
   "metadata": {},
   "outputs": [
    {
     "name": "stdout",
     "output_type": "stream",
     "text": [
      "12.154000000000003\n"
     ]
    }
   ],
   "source": [
    "print(polynomValue)"
   ]
  },
  {
   "cell_type": "code",
   "execution_count": 6,
   "id": "a523dc44",
   "metadata": {},
   "outputs": [],
   "source": [
    "a = [1, 2, 3, 4, 5, 6, 7, 8, 9]\n",
    "n = len(a)\n",
    "polynomValue = 0 \n",
    "\n",
    "for i in range(n): polynomValue += a[i] * x ** i"
   ]
  },
  {
   "cell_type": "code",
   "execution_count": 7,
   "id": "79b44712",
   "metadata": {},
   "outputs": [
    {
     "data": {
      "text/plain": [
       "76.42052309000005"
      ]
     },
     "execution_count": 7,
     "metadata": {},
     "output_type": "execute_result"
    }
   ],
   "source": [
    "polynomValue\n"
   ]
  },
  {
   "cell_type": "code",
   "execution_count": 14,
   "id": "ccd5f6be",
   "metadata": {},
   "outputs": [],
   "source": [
    "def polynomeValueCalc(a, x): \n",
    "    polynomValue = 0 \n",
    "    n = len(a)\n",
    "    for i in range(n): polynomValue += a[i] * x ** i\n",
    "    return polynomValue"
   ]
  },
  {
   "cell_type": "code",
   "execution_count": 19,
   "id": "53501f30",
   "metadata": {},
   "outputs": [],
   "source": [
    "a = [1, 0] * 2\n",
    "x = 1"
   ]
  },
  {
   "cell_type": "code",
   "execution_count": 20,
   "id": "9ae3cc5d",
   "metadata": {},
   "outputs": [
    {
     "data": {
      "text/plain": [
       "2"
      ]
     },
     "execution_count": 20,
     "metadata": {},
     "output_type": "execute_result"
    }
   ],
   "source": [
    "polynomeValueCalc(a, x)"
   ]
  },
  {
   "cell_type": "code",
   "execution_count": 22,
   "id": "78c186ba",
   "metadata": {},
   "outputs": [],
   "source": [
    "a = [1, 2, 3, 4, 5, 6, 7, 8]\n",
    "polynomValue = 0\n",
    "for i in range(len(a) - 1, -1, -1): polynomValue = polynomValue * x + a[i]  "
   ]
  },
  {
   "cell_type": "code",
   "execution_count": 23,
   "id": "9372c796",
   "metadata": {},
   "outputs": [
    {
     "data": {
      "text/plain": [
       "36"
      ]
     },
     "execution_count": 23,
     "metadata": {},
     "output_type": "execute_result"
    }
   ],
   "source": [
    "polynomValue\n"
   ]
  },
  {
   "cell_type": "code",
   "execution_count": 24,
   "id": "f29d64a9",
   "metadata": {},
   "outputs": [
    {
     "data": {
      "text/plain": [
       "36"
      ]
     },
     "execution_count": 24,
     "metadata": {},
     "output_type": "execute_result"
    }
   ],
   "source": [
    "polynomeValueCalc(a, x)"
   ]
  },
  {
   "cell_type": "code",
   "execution_count": 25,
   "id": "ee549c28",
   "metadata": {},
   "outputs": [],
   "source": [
    "def gornerPolynomeValueCalc(a, x): \n",
    "    polynomValue = 0\n",
    "    for i in range(len(a) - 1, -1, -1): polynomValue = polynomValue * x + a[i]\n",
    "    return polynomValue "
   ]
  },
  {
   "cell_type": "code",
   "execution_count": 26,
   "id": "bdd90a8a",
   "metadata": {},
   "outputs": [],
   "source": [
    "a = [1, 2] * 1000"
   ]
  },
  {
   "cell_type": "code",
   "execution_count": 27,
   "id": "e80f29de",
   "metadata": {},
   "outputs": [],
   "source": [
    "x = 1.0001"
   ]
  },
  {
   "cell_type": "code",
   "execution_count": 28,
   "id": "877f2683",
   "metadata": {},
   "outputs": [
    {
     "data": {
      "text/plain": [
       "3320.91351998684"
      ]
     },
     "execution_count": 28,
     "metadata": {},
     "output_type": "execute_result"
    }
   ],
   "source": [
    "gornerPolynomeValueCalc(a, x)"
   ]
  },
  {
   "cell_type": "code",
   "execution_count": 29,
   "id": "8d189f4d",
   "metadata": {},
   "outputs": [
    {
     "data": {
      "text/plain": [
       "3320.913519986841"
      ]
     },
     "execution_count": 29,
     "metadata": {},
     "output_type": "execute_result"
    }
   ],
   "source": [
    "polynomeValueCalc(a,x)"
   ]
  },
  {
   "cell_type": "code",
   "execution_count": 1,
   "id": "aa389ec9",
   "metadata": {},
   "outputs": [
    {
     "ename": "NameError",
     "evalue": "name 'gornerPolynomeValueCalc' is not defined",
     "output_type": "error",
     "traceback": [
      "\u001b[1;31m---------------------------------------------------------------------------\u001b[0m",
      "\u001b[1;31mNameError\u001b[0m                                 Traceback (most recent call last)",
      "\u001b[1;32m<timed exec>\u001b[0m in \u001b[0;36m<module>\u001b[1;34m\u001b[0m\n",
      "\u001b[1;31mNameError\u001b[0m: name 'gornerPolynomeValueCalc' is not defined"
     ]
    }
   ],
   "source": [
    "%%time\n",
    "for i in range(1000): gornerPolynomeValueCalc(a,x)    "
   ]
  },
  {
   "cell_type": "code",
   "execution_count": 34,
   "id": "7b2e1982",
   "metadata": {},
   "outputs": [],
   "source": [
    "# 547ms - обычный способ; 199ms - метод Горнера"
   ]
  },
  {
   "cell_type": "markdown",
   "id": "699196ab",
   "metadata": {},
   "source": [
    "# Метод sum, max"
   ]
  },
  {
   "cell_type": "code",
   "execution_count": 35,
   "id": "db7c9d19",
   "metadata": {},
   "outputs": [
    {
     "ename": "TypeError",
     "evalue": "sum() takes at most 2 arguments (5 given)",
     "output_type": "error",
     "traceback": [
      "\u001b[1;31m---------------------------------------------------------------------------\u001b[0m",
      "\u001b[1;31mTypeError\u001b[0m                                 Traceback (most recent call last)",
      "\u001b[1;32m~\\AppData\\Local\\Temp/ipykernel_10124/1829580886.py\u001b[0m in \u001b[0;36m<module>\u001b[1;34m\u001b[0m\n\u001b[1;32m----> 1\u001b[1;33m \u001b[0msum\u001b[0m\u001b[1;33m(\u001b[0m\u001b[1;36m1\u001b[0m\u001b[1;33m,\u001b[0m\u001b[1;36m2\u001b[0m\u001b[1;33m,\u001b[0m\u001b[1;36m3\u001b[0m\u001b[1;33m,\u001b[0m\u001b[1;36m4\u001b[0m\u001b[1;33m,\u001b[0m\u001b[1;36m5\u001b[0m\u001b[1;33m)\u001b[0m\u001b[1;33m\u001b[0m\u001b[1;33m\u001b[0m\u001b[0m\n\u001b[0m",
      "\u001b[1;31mTypeError\u001b[0m: sum() takes at most 2 arguments (5 given)"
     ]
    }
   ],
   "source": [
    "sum(1,2,3,4,5)"
   ]
  },
  {
   "cell_type": "code",
   "execution_count": 36,
   "id": "88dbe620",
   "metadata": {},
   "outputs": [
    {
     "data": {
      "text/plain": [
       "15"
      ]
     },
     "execution_count": 36,
     "metadata": {},
     "output_type": "execute_result"
    }
   ],
   "source": [
    "sum([1,2,3,4,5])"
   ]
  },
  {
   "cell_type": "code",
   "execution_count": 37,
   "id": "5bae7d5b",
   "metadata": {},
   "outputs": [
    {
     "data": {
      "text/plain": [
       "5"
      ]
     },
     "execution_count": 37,
     "metadata": {},
     "output_type": "execute_result"
    }
   ],
   "source": [
    "max(1,2,3,4,5)"
   ]
  },
  {
   "cell_type": "markdown",
   "id": "47d7ef09",
   "metadata": {},
   "source": [
    "# Ряд Тейлора"
   ]
  },
  {
   "cell_type": "code",
   "execution_count": null,
   "id": "ebee32aa",
   "metadata": {},
   "outputs": [],
   "source": []
  }
 ],
 "metadata": {
  "kernelspec": {
   "display_name": "Python 3 (ipykernel)",
   "language": "python",
   "name": "python3"
  },
  "language_info": {
   "codemirror_mode": {
    "name": "ipython",
    "version": 3
   },
   "file_extension": ".py",
   "mimetype": "text/x-python",
   "name": "python",
   "nbconvert_exporter": "python",
   "pygments_lexer": "ipython3",
   "version": "3.9.7"
  }
 },
 "nbformat": 4,
 "nbformat_minor": 5
}
