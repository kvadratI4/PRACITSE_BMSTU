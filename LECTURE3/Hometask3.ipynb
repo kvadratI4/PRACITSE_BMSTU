{
 "cells": [
  {
   "cell_type": "markdown",
   "id": "403b638e",
   "metadata": {},
   "source": [
    "###### Требуется раздать премию, соблюдая при этом следующие условия: премия равная для всех, премия должна быть максимально возможной и целой, нельзя отправлять премию с нескольких счетов. "
   ]
  },
  {
   "cell_type": "code",
   "execution_count": 1,
   "id": "68290d8f",
   "metadata": {},
   "outputs": [],
   "source": [
    "# N корпоративных счетов, Cn - cумма денег на счете, M - кол-во менеджеров"
   ]
  },
  {
   "cell_type": "code",
   "execution_count": 2,
   "id": "1835a2f6",
   "metadata": {},
   "outputs": [],
   "source": [
    "# требуется выдать хотя бы по 1 у.е."
   ]
  },
  {
   "cell_type": "code",
   "execution_count": 2,
   "id": "363e866d",
   "metadata": {},
   "outputs": [
    {
     "name": "stdout",
     "output_type": "stream",
     "text": [
      "2 20\n",
      "2001\n",
      "1\n",
      "the prize is:  100\n"
     ]
    }
   ],
   "source": [
    "def prizeCount(startIndex, moneys, prize, peopleCount, bonusValue): \n",
    "    getPrizeCount = 0; \n",
    "    if (prize < startIndex // 2) and (len(bonusValue) > 1) or (prize == 0): return max(bonusValue)\n",
    "    else:\n",
    "        for i in range(N):\n",
    "            getPrizeCount += moneys[i] // prize;\n",
    "        if getPrizeCount >=  peopleCount: bonusValue.append(prize)\n",
    "        return prizeCount(startIndex, moneys, prize - 1, peopleCount, bonusValue)\n",
    "    \n",
    "N, M = map(int, input().split())\n",
    "\n",
    "moneys = []\n",
    "for i in range(N): \n",
    "    moneys.append(int(input()))\n",
    "\n",
    "moneys.sort()\n",
    "prizes = []\n",
    "for i in range(N):\n",
    "    bonusValue = [0]\n",
    "    prizes.append(prizeCount(moneys[i], moneys, moneys[i], M, bonusValue))\n",
    "    \n",
    "print(\"the prize is: \", max(prizes))\n",
    "    "
   ]
  },
  {
   "cell_type": "code",
   "execution_count": null,
   "id": "83a1983c",
   "metadata": {},
   "outputs": [],
   "source": []
  }
 ],
 "metadata": {
  "kernelspec": {
   "display_name": "Python 3 (ipykernel)",
   "language": "python",
   "name": "python3"
  },
  "language_info": {
   "codemirror_mode": {
    "name": "ipython",
    "version": 3
   },
   "file_extension": ".py",
   "mimetype": "text/x-python",
   "name": "python",
   "nbconvert_exporter": "python",
   "pygments_lexer": "ipython3",
   "version": "3.9.7"
  }
 },
 "nbformat": 4,
 "nbformat_minor": 5
}
