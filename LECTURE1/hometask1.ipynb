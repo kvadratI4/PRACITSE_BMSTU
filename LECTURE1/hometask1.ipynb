{
 "cells": [
  {
   "cell_type": "code",
   "execution_count": 4,
   "id": "2f0937d9",
   "metadata": {},
   "outputs": [
    {
     "name": "stdout",
     "output_type": "stream",
     "text": [
      "Введите три стороны треугольника\n",
      "3\n",
      "3\n",
      "4\n",
      "Треугольинк существует\n",
      "Треугольник равнобедренный\n"
     ]
    }
   ],
   "source": [
    "print(\"Введите три стороны треугольника\")\n",
    "a = float(input())\n",
    "b = float(input())\n",
    "с = float(input())\n",
    "\n",
    "if (a < b + с) and (b < a + с) and (с < a + b):\n",
    "    print(\"Треугольинк существует\")\n",
    "    if (a == b and a == с and b == с): print(\"Треугольник равносторонний\")\n",
    "    elif (a != b and a != с and b != с): print(\"Треугольник разносторонний\")\n",
    "    else: print(\"Треугольник равнобедренный\")\n",
    "elif (a < 0) or (b < 0) or (c < 0):\n",
    "    print(\"Стороны треугольника не могут быть отрицательными.\", end = \" \")\n",
    "    print(\"Введите положительные стороны\")\n",
    "else: print(\"Треугольник с такими сторонами не существует\")"
   ]
  }
 ],
 "metadata": {
  "kernelspec": {
   "display_name": "Python 3 (ipykernel)",
   "language": "python",
   "name": "python3"
  },
  "language_info": {
   "codemirror_mode": {
    "name": "ipython",
    "version": 3
   },
   "file_extension": ".py",
   "mimetype": "text/x-python",
   "name": "python",
   "nbconvert_exporter": "python",
   "pygments_lexer": "ipython3",
   "version": "3.9.7"
  }
 },
 "nbformat": 4,
 "nbformat_minor": 5
}
