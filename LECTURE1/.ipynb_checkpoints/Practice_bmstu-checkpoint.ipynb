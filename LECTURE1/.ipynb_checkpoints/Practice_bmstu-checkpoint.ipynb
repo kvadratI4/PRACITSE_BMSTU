{
 "cells": [
  {
   "cell_type": "markdown",
   "id": "ce2fdc28",
   "metadata": {},
   "source": [
    "# Занятие 1\n",
    "- типы данных <br>\n",
    "- условный оператор if <br>\n",
    "- приведение типов <br>\n",
    "- метод print\n"
   ]
  },
  {
   "cell_type": "markdown",
   "id": "25f87c46",
   "metadata": {},
   "source": [
    "# Преподаватель\n",
    "Николаев Андрей "
   ]
  },
  {
   "cell_type": "code",
   "execution_count": 3,
   "id": "611d36ea",
   "metadata": {},
   "outputs": [
    {
     "name": "stdout",
     "output_type": "stream",
     "text": [
      "100\n",
      "число 100 четное\n"
     ]
    }
   ],
   "source": [
    "p = int(input())\n",
    "if p % 2 == 0: print('число', p, 'четное')\n",
    "else: print('число', p, 'нечетное')"
   ]
  },
  {
   "cell_type": "code",
   "execution_count": null,
   "id": "139ab214",
   "metadata": {},
   "outputs": [],
   "source": [
    "if p % 10 == 0 print('число', p, 'оканчивается на 0')\n",
    "else: print('число', p, 'не оканчивается на 0')"
   ]
  }
 ],
 "metadata": {
  "kernelspec": {
   "display_name": "Python 3 (ipykernel)",
   "language": "python",
   "name": "python3"
  },
  "language_info": {
   "codemirror_mode": {
    "name": "ipython",
    "version": 3
   },
   "file_extension": ".py",
   "mimetype": "text/x-python",
   "name": "python",
   "nbconvert_exporter": "python",
   "pygments_lexer": "ipython3",
   "version": "3.9.7"
  }
 },
 "nbformat": 4,
 "nbformat_minor": 5
}
