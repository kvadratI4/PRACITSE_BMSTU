{
 "cells": [
  {
   "cell_type": "markdown",
   "id": "828ec070",
   "metadata": {},
   "source": [
    "####  Написать программу, которая выводит матрицу в красивом виде, без лишних пробелов между элементами "
   ]
  },
  {
   "cell_type": "code",
   "execution_count": 22,
   "id": "5cd3a114",
   "metadata": {},
   "outputs": [
    {
     "name": "stdout",
     "output_type": "stream",
     "text": [
      "     1    10  100 1000  1001 \n",
      "  2000   200   20    2    22 \n",
      "    30   300 3000 3000 30000 \n",
      "400000 40000 4000  400    40 \n"
     ]
    }
   ],
   "source": [
    "A = [[1,10,100,1000,1001], [2000, 200, 20, 2, 22], [30,300,3000,3000,30000], [400000,40000,4000,400, 40]]\n",
    "\n",
    "def get_column(A, idx): \n",
    "    column = []\n",
    "    for row in A: column.append(row[idx])\n",
    "    return column\n",
    "\n",
    "def printMatrix(A): \n",
    "    countColumns = len(A[0])\n",
    "\n",
    "    symbols = []\n",
    "    for i in range(countColumns):\n",
    "        currentColumn = str(get_column(A, i))[1:-1].split(', ')\n",
    "        \n",
    "        maxSymbols = len(currentColumn[0])\n",
    "        for j in currentColumn: \n",
    "            if len(j) > maxSymbols: maxSymbols = len(j)\n",
    "        \n",
    "        symbols.append(maxSymbols)\n",
    "        \n",
    "\n",
    "    for i in range(len(A)):\n",
    "        line = A[i]\n",
    "        for j in range(len(line)):\n",
    "            element = str(line[j])\n",
    "            print(element.rjust(symbols[j]), end = \" \")\n",
    "        print()\n",
    "        \n",
    "printMatrix(A)\n"
   ]
  },
  {
   "cell_type": "code",
   "execution_count": null,
   "id": "24ce48c8",
   "metadata": {},
   "outputs": [],
   "source": []
  }
 ],
 "metadata": {
  "kernelspec": {
   "display_name": "Python 3 (ipykernel)",
   "language": "python",
   "name": "python3"
  },
  "language_info": {
   "codemirror_mode": {
    "name": "ipython",
    "version": 3
   },
   "file_extension": ".py",
   "mimetype": "text/x-python",
   "name": "python",
   "nbconvert_exporter": "python",
   "pygments_lexer": "ipython3",
   "version": "3.9.7"
  }
 },
 "nbformat": 4,
 "nbformat_minor": 5
}
