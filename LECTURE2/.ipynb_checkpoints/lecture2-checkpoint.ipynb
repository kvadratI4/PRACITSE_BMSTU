{
 "cells": [
  {
   "cell_type": "markdown",
   "id": "b63a1a13",
   "metadata": {},
   "source": [
    "# Массивы"
   ]
  },
  {
   "cell_type": "code",
   "execution_count": 2,
   "id": "8fc58f4f",
   "metadata": {},
   "outputs": [],
   "source": [
    "array = []\n"
   ]
  },
  {
   "cell_type": "code",
   "execution_count": 4,
   "id": "ea9a1792",
   "metadata": {},
   "outputs": [
    {
     "data": {
      "text/plain": [
       "list"
      ]
     },
     "execution_count": 4,
     "metadata": {},
     "output_type": "execute_result"
    }
   ],
   "source": [
    "type(array)"
   ]
  },
  {
   "cell_type": "code",
   "execution_count": 6,
   "id": "baddc2a9",
   "metadata": {},
   "outputs": [],
   "source": [
    "array = [1,2,3,'cat',True]"
   ]
  },
  {
   "cell_type": "code",
   "execution_count": 7,
   "id": "467798f8",
   "metadata": {},
   "outputs": [
    {
     "name": "stdout",
     "output_type": "stream",
     "text": [
      "[1, 2, 3, 'cat', True]\n"
     ]
    }
   ],
   "source": [
    "print(array)"
   ]
  },
  {
   "cell_type": "code",
   "execution_count": 9,
   "id": "9cb20ab2",
   "metadata": {},
   "outputs": [],
   "source": [
    "array = list()"
   ]
  },
  {
   "cell_type": "code",
   "execution_count": 10,
   "id": "aa5c631f",
   "metadata": {},
   "outputs": [
    {
     "name": "stdout",
     "output_type": "stream",
     "text": [
      "[]\n"
     ]
    }
   ],
   "source": [
    "print(array)\n"
   ]
  },
  {
   "cell_type": "code",
   "execution_count": 12,
   "id": "0606a364",
   "metadata": {},
   "outputs": [],
   "source": [
    "arr = [1,2,3,\"cat\",True]"
   ]
  },
  {
   "cell_type": "code",
   "execution_count": 14,
   "id": "5ca572f6",
   "metadata": {},
   "outputs": [
    {
     "name": "stdout",
     "output_type": "stream",
     "text": [
      "1 3 cat\n"
     ]
    }
   ],
   "source": [
    "print(arr[0],arr[2],arr[3])"
   ]
  },
  {
   "cell_type": "code",
   "execution_count": 15,
   "id": "88f0b2b8",
   "metadata": {},
   "outputs": [
    {
     "data": {
      "text/plain": [
       "5"
      ]
     },
     "execution_count": 15,
     "metadata": {},
     "output_type": "execute_result"
    }
   ],
   "source": [
    "len(arr)"
   ]
  },
  {
   "cell_type": "code",
   "execution_count": 16,
   "id": "f6e84904",
   "metadata": {},
   "outputs": [],
   "source": [
    "matrix = [[0,1], [3,4]]"
   ]
  },
  {
   "cell_type": "code",
   "execution_count": 17,
   "id": "c5dfb272",
   "metadata": {},
   "outputs": [
    {
     "name": "stdout",
     "output_type": "stream",
     "text": [
      "[[0, 1], [3, 4]]\n"
     ]
    }
   ],
   "source": [
    "print(matrix)"
   ]
  },
  {
   "cell_type": "code",
   "execution_count": 18,
   "id": "a9a103be",
   "metadata": {},
   "outputs": [
    {
     "name": "stdout",
     "output_type": "stream",
     "text": [
      "[0, 1]\n"
     ]
    }
   ],
   "source": [
    "print(matrix[0])"
   ]
  },
  {
   "cell_type": "code",
   "execution_count": 19,
   "id": "18e3713c",
   "metadata": {},
   "outputs": [],
   "source": [
    "arr.append('cat')"
   ]
  },
  {
   "cell_type": "code",
   "execution_count": 20,
   "id": "6b3027cd",
   "metadata": {},
   "outputs": [
    {
     "name": "stdout",
     "output_type": "stream",
     "text": [
      "[1, 2, 3, 'cat', True, 'cat']\n"
     ]
    }
   ],
   "source": [
    "print(arr)"
   ]
  },
  {
   "cell_type": "code",
   "execution_count": 21,
   "id": "aca60421",
   "metadata": {},
   "outputs": [
    {
     "data": {
      "text/plain": [
       "'cat'"
      ]
     },
     "execution_count": 21,
     "metadata": {},
     "output_type": "execute_result"
    }
   ],
   "source": [
    "arr.pop()"
   ]
  },
  {
   "cell_type": "code",
   "execution_count": 22,
   "id": "0908d7ca",
   "metadata": {},
   "outputs": [
    {
     "name": "stdout",
     "output_type": "stream",
     "text": [
      "[1, 2, 3, 'cat', True]\n"
     ]
    }
   ],
   "source": [
    "print(arr)"
   ]
  },
  {
   "cell_type": "code",
   "execution_count": 23,
   "id": "50e2130e",
   "metadata": {},
   "outputs": [],
   "source": [
    "arr.clear()"
   ]
  },
  {
   "cell_type": "code",
   "execution_count": 24,
   "id": "331a7394",
   "metadata": {},
   "outputs": [
    {
     "name": "stdout",
     "output_type": "stream",
     "text": [
      "[]\n"
     ]
    }
   ],
   "source": [
    "print(arr)"
   ]
  },
  {
   "cell_type": "code",
   "execution_count": 25,
   "id": "f2ae7ed3",
   "metadata": {},
   "outputs": [],
   "source": [
    "arr = [1,1.2,4,345435415143341,0]"
   ]
  },
  {
   "cell_type": "code",
   "execution_count": 26,
   "id": "69a4e8a0",
   "metadata": {},
   "outputs": [
    {
     "data": {
      "text/plain": [
       "345435415143341"
      ]
     },
     "execution_count": 26,
     "metadata": {},
     "output_type": "execute_result"
    }
   ],
   "source": [
    "arr.pop(3)"
   ]
  },
  {
   "cell_type": "code",
   "execution_count": 27,
   "id": "02676cb9",
   "metadata": {},
   "outputs": [],
   "source": [
    "arr_copy = arr.copy()"
   ]
  },
  {
   "cell_type": "code",
   "execution_count": 28,
   "id": "75eaa914",
   "metadata": {},
   "outputs": [],
   "source": [
    "arr.append(False)"
   ]
  },
  {
   "cell_type": "code",
   "execution_count": 29,
   "id": "932e2bb8",
   "metadata": {},
   "outputs": [
    {
     "data": {
      "text/plain": [
       "[1, 1.2, 4]"
      ]
     },
     "execution_count": 29,
     "metadata": {},
     "output_type": "execute_result"
    }
   ],
   "source": [
    "arr_copy"
   ]
  },
  {
   "cell_type": "code",
   "execution_count": 30,
   "id": "d9e569da",
   "metadata": {},
   "outputs": [
    {
     "data": {
      "text/plain": [
       "[1, 1.2, 4, False]"
      ]
     },
     "execution_count": 30,
     "metadata": {},
     "output_type": "execute_result"
    }
   ],
   "source": [
    "arr"
   ]
  },
  {
   "cell_type": "code",
   "execution_count": 31,
   "id": "8270f5cd",
   "metadata": {},
   "outputs": [
    {
     "data": {
      "text/plain": [
       "0"
      ]
     },
     "execution_count": 31,
     "metadata": {},
     "output_type": "execute_result"
    }
   ],
   "source": [
    "arr.count(5)"
   ]
  },
  {
   "cell_type": "code",
   "execution_count": 32,
   "id": "dd2bee94",
   "metadata": {},
   "outputs": [],
   "source": [
    "tmp = [1,2,3,4,5]"
   ]
  },
  {
   "cell_type": "code",
   "execution_count": 33,
   "id": "1e523324",
   "metadata": {},
   "outputs": [],
   "source": [
    "arr.extend(tmp)"
   ]
  },
  {
   "cell_type": "code",
   "execution_count": 34,
   "id": "d7f0db3f",
   "metadata": {},
   "outputs": [
    {
     "data": {
      "text/plain": [
       "[1, 1.2, 4, False, 1, 2, 3, 4, 5]"
      ]
     },
     "execution_count": 34,
     "metadata": {},
     "output_type": "execute_result"
    }
   ],
   "source": [
    "arr"
   ]
  },
  {
   "cell_type": "code",
   "execution_count": 35,
   "id": "149b7aa4",
   "metadata": {},
   "outputs": [
    {
     "data": {
      "text/plain": [
       "3"
      ]
     },
     "execution_count": 35,
     "metadata": {},
     "output_type": "execute_result"
    }
   ],
   "source": [
    "arr.index(False)"
   ]
  },
  {
   "cell_type": "code",
   "execution_count": 36,
   "id": "87ec447d",
   "metadata": {},
   "outputs": [],
   "source": [
    "arr.insert(2, True)"
   ]
  },
  {
   "cell_type": "code",
   "execution_count": 37,
   "id": "c7480ef9",
   "metadata": {},
   "outputs": [
    {
     "data": {
      "text/plain": [
       "[1, 1.2, True, 4, False, 1, 2, 3, 4, 5]"
      ]
     },
     "execution_count": 37,
     "metadata": {},
     "output_type": "execute_result"
    }
   ],
   "source": [
    "arr"
   ]
  },
  {
   "cell_type": "code",
   "execution_count": 38,
   "id": "b434f68f",
   "metadata": {},
   "outputs": [],
   "source": [
    "arr.remove(4)"
   ]
  },
  {
   "cell_type": "code",
   "execution_count": 39,
   "id": "1f301e84",
   "metadata": {},
   "outputs": [
    {
     "data": {
      "text/plain": [
       "[1, 1.2, True, False, 1, 2, 3, 4, 5]"
      ]
     },
     "execution_count": 39,
     "metadata": {},
     "output_type": "execute_result"
    }
   ],
   "source": [
    "arr"
   ]
  },
  {
   "cell_type": "code",
   "execution_count": 40,
   "id": "4763765d",
   "metadata": {},
   "outputs": [],
   "source": [
    "arr.remove(4)"
   ]
  },
  {
   "cell_type": "code",
   "execution_count": 41,
   "id": "2a19b825",
   "metadata": {},
   "outputs": [
    {
     "data": {
      "text/plain": [
       "[1, 1.2, True, False, 1, 2, 3, 5]"
      ]
     },
     "execution_count": 41,
     "metadata": {},
     "output_type": "execute_result"
    }
   ],
   "source": [
    "arr"
   ]
  },
  {
   "cell_type": "code",
   "execution_count": 42,
   "id": "f5165b5a",
   "metadata": {},
   "outputs": [],
   "source": [
    "arr.reverse()\n"
   ]
  },
  {
   "cell_type": "code",
   "execution_count": 43,
   "id": "79888802",
   "metadata": {},
   "outputs": [
    {
     "data": {
      "text/plain": [
       "[5, 3, 2, 1, False, True, 1.2, 1]"
      ]
     },
     "execution_count": 43,
     "metadata": {},
     "output_type": "execute_result"
    }
   ],
   "source": [
    "arr\n"
   ]
  },
  {
   "cell_type": "markdown",
   "id": "329b80c1",
   "metadata": {},
   "source": [
    "# Цикл"
   ]
  },
  {
   "cell_type": "code",
   "execution_count": 44,
   "id": "2485eda1",
   "metadata": {},
   "outputs": [
    {
     "name": "stdout",
     "output_type": "stream",
     "text": [
      "5\n",
      "3\n",
      "2\n",
      "1\n",
      "False\n",
      "True\n",
      "1.2\n",
      "1\n"
     ]
    }
   ],
   "source": [
    "for i in arr: print(i)"
   ]
  },
  {
   "cell_type": "code",
   "execution_count": 46,
   "id": "127d61b2",
   "metadata": {},
   "outputs": [
    {
     "name": "stdout",
     "output_type": "stream",
     "text": [
      "100\n",
      "144\n",
      "196\n",
      "256\n",
      "324\n",
      "400\n"
     ]
    }
   ],
   "source": [
    "for i in range(10,21,2): print(i * i)"
   ]
  },
  {
   "cell_type": "markdown",
   "id": "bf0676cb",
   "metadata": {},
   "source": [
    "# Cрезы"
   ]
  },
  {
   "cell_type": "code",
   "execution_count": 47,
   "id": "ca88c47a",
   "metadata": {},
   "outputs": [
    {
     "data": {
      "text/plain": [
       "[5, 3, 2, 1, False, True, 1.2, 1]"
      ]
     },
     "execution_count": 47,
     "metadata": {},
     "output_type": "execute_result"
    }
   ],
   "source": [
    "arr"
   ]
  },
  {
   "cell_type": "code",
   "execution_count": 48,
   "id": "4860c26c",
   "metadata": {},
   "outputs": [
    {
     "data": {
      "text/plain": [
       "[3, 2, 1]"
      ]
     },
     "execution_count": 48,
     "metadata": {},
     "output_type": "execute_result"
    }
   ],
   "source": [
    "arr[1:4]"
   ]
  },
  {
   "cell_type": "code",
   "execution_count": 49,
   "id": "0db26f02",
   "metadata": {},
   "outputs": [
    {
     "data": {
      "text/plain": [
       "[5, 3, 2, 1, False]"
      ]
     },
     "execution_count": 49,
     "metadata": {},
     "output_type": "execute_result"
    }
   ],
   "source": [
    "arr[:5]"
   ]
  },
  {
   "cell_type": "code",
   "execution_count": 50,
   "id": "fa70a91c",
   "metadata": {},
   "outputs": [
    {
     "data": {
      "text/plain": [
       "[1, False, True, 1.2, 1]"
      ]
     },
     "execution_count": 50,
     "metadata": {},
     "output_type": "execute_result"
    }
   ],
   "source": [
    "arr[3:]"
   ]
  },
  {
   "cell_type": "code",
   "execution_count": 51,
   "id": "fedd8168",
   "metadata": {},
   "outputs": [
    {
     "ename": "SyntaxError",
     "evalue": "invalid syntax (Temp/ipykernel_7020/1185584631.py, line 1)",
     "output_type": "error",
     "traceback": [
      "\u001b[1;36m  File \u001b[1;32m\"C:\\Users\\kvard\\AppData\\Local\\Temp/ipykernel_7020/1185584631.py\"\u001b[1;36m, line \u001b[1;32m1\u001b[0m\n\u001b[1;33m    arr{1:7:2}\u001b[0m\n\u001b[1;37m       ^\u001b[0m\n\u001b[1;31mSyntaxError\u001b[0m\u001b[1;31m:\u001b[0m invalid syntax\n"
     ]
    }
   ],
   "source": [
    "arr{1:7:2}"
   ]
  },
  {
   "cell_type": "code",
   "execution_count": 52,
   "id": "d75b90e9",
   "metadata": {},
   "outputs": [
    {
     "data": {
      "text/plain": [
       "[3, 1, True]"
      ]
     },
     "execution_count": 52,
     "metadata": {},
     "output_type": "execute_result"
    }
   ],
   "source": [
    "arr[1:7:2]"
   ]
  },
  {
   "cell_type": "markdown",
   "id": "d2ca0af8",
   "metadata": {},
   "source": [
    "# Функции"
   ]
  },
  {
   "cell_type": "code",
   "execution_count": 53,
   "id": "ae4c6029",
   "metadata": {},
   "outputs": [],
   "source": [
    "def func(x):\n",
    "    return x * x"
   ]
  },
  {
   "cell_type": "code",
   "execution_count": 54,
   "id": "3109c87c",
   "metadata": {},
   "outputs": [
    {
     "name": "stdout",
     "output_type": "stream",
     "text": [
      "0\n",
      "1\n",
      "4\n",
      "9\n",
      "16\n",
      "25\n",
      "36\n",
      "49\n",
      "64\n",
      "81\n"
     ]
    }
   ],
   "source": [
    "for i in range(10): print(func(i))"
   ]
  },
  {
   "cell_type": "markdown",
   "id": "51d3bc47",
   "metadata": {},
   "source": []
  },
  {
   "cell_type": "code",
   "execution_count": 67,
   "id": "3120670f",
   "metadata": {},
   "outputs": [],
   "source": [
    "def maxSearch(array):\n",
    "    #if type(array) == list:\n",
    "    if len(array) == 0: print(\"array is empty\")\n",
    "    else:\n",
    "        maxim = array[0];\n",
    "        for i in range(1, len(array)): \n",
    "            if array[i] > maxim: maxim = array[i]\n",
    "        return maxim        \n",
    "    #else: print(\"array should have list type\")"
   ]
  },
  {
   "cell_type": "code",
   "execution_count": 69,
   "id": "54d58491",
   "metadata": {},
   "outputs": [],
   "source": [
    "a = [1,100,-1,4,2,99,9999]"
   ]
  },
  {
   "cell_type": "code",
   "execution_count": 70,
   "id": "b016418e",
   "metadata": {},
   "outputs": [
    {
     "name": "stdout",
     "output_type": "stream",
     "text": [
      "9999\n"
     ]
    }
   ],
   "source": [
    "print(maxSearch(a))"
   ]
  },
  {
   "cell_type": "markdown",
   "id": "c96d2776",
   "metadata": {},
   "source": [
    "# Умножение матриц"
   ]
  },
  {
   "cell_type": "code",
   "execution_count": 72,
   "id": "ed585984",
   "metadata": {},
   "outputs": [],
   "source": [
    "def print_matrix(matrix):\n",
    "    for row in matrix: print(row)"
   ]
  },
  {
   "cell_type": "code",
   "execution_count": 74,
   "id": "cfd799a1",
   "metadata": {},
   "outputs": [],
   "source": [
    "A = [[1,2],[3,4],[5,6]]\n",
    "B = [[1,2,3,4],[5,6,7,8]]"
   ]
  },
  {
   "cell_type": "code",
   "execution_count": 109,
   "id": "22a7d99c",
   "metadata": {},
   "outputs": [
    {
     "name": "stdout",
     "output_type": "stream",
     "text": [
      "[1, 2]\n",
      "[3, 4]\n",
      "[5, 6]\n",
      "\n",
      "[1, 2, 3, 4]\n",
      "[5, 6, 7, 8]\n"
     ]
    }
   ],
   "source": [
    "print_matrix(A)\n",
    "print()\n",
    "print_matrix(B)"
   ]
  },
  {
   "cell_type": "code",
   "execution_count": 144,
   "id": "73b044e3",
   "metadata": {},
   "outputs": [],
   "source": [
    "def get_column(B, idx): \n",
    "    column = []\n",
    "    for row in B:column.append(row[idx])\n",
    "    return column    "
   ]
  },
  {
   "cell_type": "code",
   "execution_count": 145,
   "id": "b6d6958c",
   "metadata": {},
   "outputs": [
    {
     "data": {
      "text/plain": [
       "[4, 8]"
      ]
     },
     "execution_count": 145,
     "metadata": {},
     "output_type": "execute_result"
    }
   ],
   "source": [
    "get_column(B, 3)"
   ]
  },
  {
   "cell_type": "code",
   "execution_count": 231,
   "id": "5e6f66d2",
   "metadata": {},
   "outputs": [],
   "source": [
    "def matrixProd(A, B): \n",
    "    if len(A[0]) == len(B):\n",
    "        m, n, k = len(A), len(A[0]), len(B[0])\n",
    "        \n",
    "        C = [[0] * k] * m\n",
    "        result = []\n",
    "        for i in range(m):\n",
    "            for j in range(k):\n",
    "                line = A[i]\n",
    "                column = get_column(B,j)\n",
    "                #print(line,column)\n",
    "                tmp = 0\n",
    "                for r in range(n): tmp += (line[r] * column[r])\n",
    "                #print(tmp)\n",
    "                C[i][j] = tmp\n",
    "                result.append(tmp)\n",
    "            #print(i, C)\n",
    "        for i in range(len(result)):\n",
    "            print(result[i], end = ' ')\n",
    "            if (i + 1) % k == 0 and i > 0:\n",
    "                print('\\n')\n",
    "                \n",
    "                \n",
    "    else: print(\"Эти матрицы нельзя умножить\")"
   ]
  },
  {
   "cell_type": "code",
   "execution_count": 232,
   "id": "35b78ae9",
   "metadata": {},
   "outputs": [
    {
     "name": "stdout",
     "output_type": "stream",
     "text": [
      "11 14 17 20 \n",
      "\n",
      "23 30 37 44 \n",
      "\n",
      "35 46 57 68 \n",
      "\n"
     ]
    }
   ],
   "source": [
    "matrixProd(A, B)"
   ]
  },
  {
   "cell_type": "code",
   "execution_count": null,
   "id": "60db2d8e",
   "metadata": {},
   "outputs": [],
   "source": []
  }
 ],
 "metadata": {
  "kernelspec": {
   "display_name": "Python 3 (ipykernel)",
   "language": "python",
   "name": "python3"
  },
  "language_info": {
   "codemirror_mode": {
    "name": "ipython",
    "version": 3
   },
   "file_extension": ".py",
   "mimetype": "text/x-python",
   "name": "python",
   "nbconvert_exporter": "python",
   "pygments_lexer": "ipython3",
   "version": "3.9.7"
  }
 },
 "nbformat": 4,
 "nbformat_minor": 5
}
